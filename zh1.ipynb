{
    "metadata": {
        "kernelspec": {
            "name": "SQL",
            "display_name": "SQL",
            "language": "sql"
        },
        "language_info": {
            "name": "sql",
            "version": ""
        }
    },
    "nbformat_minor": 2,
    "nbformat": 4,
    "cells": [
        {
            "cell_type": "code",
            "source": [
                "SELECT NEV,EMAIL\r\n",
                "FROM Vendeg\r\n",
                "WHERE YEAR(SZUL_DAT)=1990 AND MONTH(SZUL_DAT)>6\r\n",
                "ORDER BY MONTH(SZUL_DAT)"
            ],
            "metadata": {
                "azdata_cell_guid": "e180a3f6-b49a-4c68-9e6e-0134773f89e8",
                "language": "sql"
            },
            "outputs": [
                {
                    "output_type": "display_data",
                    "data": {
                        "text/html": "(4 rows affected)"
                    },
                    "metadata": {}
                },
                {
                    "output_type": "display_data",
                    "data": {
                        "text/html": "Total execution time: 00:00:00.007"
                    },
                    "metadata": {}
                },
                {
                    "output_type": "execute_result",
                    "metadata": {},
                    "execution_count": 6,
                    "data": {
                        "application/vnd.dataresource+json": {
                            "schema": {
                                "fields": [
                                    {
                                        "name": "NEV"
                                    },
                                    {
                                        "name": "EMAIL"
                                    }
                                ]
                            },
                            "data": [
                                {
                                    "NEV": "Bodor Szabolcs",
                                    "EMAIL": "szabolcs.bodor@mail.hu"
                                },
                                {
                                    "NEV": "Bosnyák Ilona",
                                    "EMAIL": "ilona3@gmail.com"
                                },
                                {
                                    "NEV": "Szabó Julianna",
                                    "EMAIL": "julianna4@gmail.com"
                                },
                                {
                                    "NEV": "Berta Dávid",
                                    "EMAIL": "david4@gmail.com"
                                }
                            ]
                        },
                        "text/html": [
                            "<table>",
                            "<tr><th>NEV</th><th>EMAIL</th></tr>",
                            "<tr><td>Bodor Szabolcs</td><td>szabolcs.bodor@mail.hu</td></tr>",
                            "<tr><td>Bosnyák Ilona</td><td>ilona3@gmail.com</td></tr>",
                            "<tr><td>Szabó Julianna</td><td>julianna4@gmail.com</td></tr>",
                            "<tr><td>Berta Dávid</td><td>david4@gmail.com</td></tr>",
                            "</table>"
                        ]
                    }
                }
            ],
            "execution_count": 6
        },
        {
            "cell_type": "code",
            "source": [
                "SELECT szh.TIPUS, ROUND(COUNT(FOGLALAS_PK),-2) AS 'Foglalások száma'\r\n",
                "FROM Foglalas f JOIN Szoba sz ON f.SZOBA_FK=sz.SZOBA_ID JOIN Szallashely szh ON sz.SZALLAS_FK=szh.SZALLAS_ID\r\n",
                "GROUP BY szh.TIPUS\r\n",
                "HAVING ROUND(COUNT(FOGLALAS_PK),-2)<500\r\n",
                "\r\n",
                ""
            ],
            "metadata": {
                "azdata_cell_guid": "943be413-bf7c-4cdf-8a39-0ec03109e3dc",
                "language": "sql"
            },
            "outputs": [
                {
                    "output_type": "display_data",
                    "data": {
                        "text/html": "(3 rows affected)"
                    },
                    "metadata": {}
                },
                {
                    "output_type": "display_data",
                    "data": {
                        "text/html": "Total execution time: 00:00:00.010"
                    },
                    "metadata": {}
                },
                {
                    "output_type": "execute_result",
                    "metadata": {},
                    "execution_count": 24,
                    "data": {
                        "application/vnd.dataresource+json": {
                            "schema": {
                                "fields": [
                                    {
                                        "name": "TIPUS"
                                    },
                                    {
                                        "name": "Foglalások száma"
                                    }
                                ]
                            },
                            "data": [
                                {
                                    "TIPUS": "Apartman",
                                    "Foglalások száma": "100"
                                },
                                {
                                    "TIPUS": "vendégház",
                                    "Foglalások száma": "100"
                                },
                                {
                                    "TIPUS": "panzió",
                                    "Foglalások száma": "200"
                                }
                            ]
                        },
                        "text/html": [
                            "<table>",
                            "<tr><th>TIPUS</th><th>Foglalások száma</th></tr>",
                            "<tr><td>Apartman</td><td>100</td></tr>",
                            "<tr><td>vendégház</td><td>100</td></tr>",
                            "<tr><td>panzió</td><td>200</td></tr>",
                            "</table>"
                        ]
                    }
                }
            ],
            "execution_count": 24
        },
        {
            "cell_type": "code",
            "source": [
                "SELECT sz.*, szh.SZALLAS_NEV, \r\n",
                "    CASE szh.TIPUS \r\n",
                "        WHEN 'panzió' THEN 'Igen'\r\n",
                "        ELSE 'Nem'\r\n",
                "        END AS 'Panzió'\r\n",
                "FROM Szoba sz JOIN Szallashely szh ON sz.SZALLAS_FK=szh.SZALLAS_ID FULL JOIN Foglalas f ON sz.SZOBA_ID=f.SZOBA_FK\r\n",
                "WHERE sz.SZOBA_ID NOT IN (f.SZOBA_FK)"
            ],
            "metadata": {
                "azdata_cell_guid": "6ba9c060-3f38-40e7-bfc1-523a3564410d",
                "language": "sql"
            },
            "outputs": [
                {
                    "output_type": "display_data",
                    "data": {
                        "text/html": "(0 rows affected)"
                    },
                    "metadata": {}
                },
                {
                    "output_type": "display_data",
                    "data": {
                        "text/html": "Total execution time: 00:00:00.003"
                    },
                    "metadata": {}
                },
                {
                    "output_type": "execute_result",
                    "metadata": {},
                    "execution_count": 40,
                    "data": {
                        "application/vnd.dataresource+json": {
                            "schema": {
                                "fields": [
                                    {
                                        "name": "SZOBA_ID"
                                    },
                                    {
                                        "name": "SZOBA_SZAMA"
                                    },
                                    {
                                        "name": "FEROHELY"
                                    },
                                    {
                                        "name": "POTAGY"
                                    },
                                    {
                                        "name": "KLIMAS"
                                    },
                                    {
                                        "name": "SZALLAS_FK"
                                    },
                                    {
                                        "name": "SZALLAS_NEV"
                                    },
                                    {
                                        "name": "Panzió"
                                    }
                                ]
                            },
                            "data": []
                        },
                        "text/html": [
                            "<table>",
                            "<tr><th>SZOBA_ID</th><th>SZOBA_SZAMA</th><th>FEROHELY</th><th>POTAGY</th><th>KLIMAS</th><th>SZALLAS_FK</th><th>SZALLAS_NEV</th><th>Panzió</th></tr>",
                            "</table>"
                        ]
                    }
                }
            ],
            "execution_count": 40
        }
    ]
}